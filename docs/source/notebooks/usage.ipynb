{
 "cells": [
  {
   "cell_type": "markdown",
   "metadata": {},
   "source": [
    "# Tutorial"
   ]
  },
  {
   "cell_type": "markdown",
   "metadata": {},
   "source": [
    "In this tutorial, we will explore how to use SWAMP-E to simulate planetary atmospheres. "
   ]
  },
  {
   "cell_type": "code",
   "execution_count": 1,
   "metadata": {},
   "outputs": [],
   "source": [
    "import numpy\n",
    "import astropy\n"
   ]
  },
  {
   "cell_type": "code",
   "execution_count": 2,
   "metadata": {},
   "outputs": [
    {
     "name": "stdout",
     "output_type": "stream",
     "text": [
      "Looking in indexes: https://test.pypi.org/simple/\n",
      "Collecting SWAMPE==0.0.17\n",
      "  Downloading https://test-files.pythonhosted.org/packages/c2/36/a4740feeb78a65451de2898133845b684cb625b6a7220baeb32664e0a936/SWAMPE-0.0.17-py3-none-any.whl (64 kB)\n",
      "Requirement already satisfied: jupyter in c:\\users\\ek672\\appdata\\local\\continuum\\anaconda3\\lib\\site-packages (from SWAMPE==0.0.17) (1.0.0)\n",
      "Note: you may need to restart the kernel to use updated packages.Requirement already satisfied: numpy in c:\\users\\ek672\\appdata\\local\\continuum\\anaconda3\\lib\\site-packages (from SWAMPE==0.0.17) (1.19.2)\n",
      "Requirement already satisfied: matplotlib in c:\\users\\ek672\\appdata\\local\\continuum\\anaconda3\\lib\\site-packages (from SWAMPE==0.0.17) (3.5.2)\n",
      "Requirement already satisfied: imageio in c:\\users\\ek672\\appdata\\local\\continuum\\anaconda3\\lib\\site-packages (from SWAMPE==0.0.17) (2.8.0)\n",
      "Requirement already satisfied: scipy in c:\\users\\ek672\\appdata\\local\\continuum\\anaconda3\\lib\\site-packages (from SWAMPE==0.0.17) (1.4.1)\n",
      "Requirement already satisfied: pandas in c:\\users\\ek672\\appdata\\local\\continuum\\anaconda3\\lib\\site-packages (from SWAMPE==0.0.17) (1.0.3)\n",
      "Requirement already satisfied: astropy in c:\\users\\ek672\\appdata\\local\\continuum\\anaconda3\\lib\\site-packages (from SWAMPE==0.0.17) (4.0.1.post1)\n",
      "Requirement already satisfied: nbconvert in c:\\users\\ek672\\appdata\\local\\continuum\\anaconda3\\lib\\site-packages (from jupyter->SWAMPE==0.0.17) (5.6.1)\n",
      "Requirement already satisfied: qtconsole in c:\\users\\ek672\\appdata\\local\\continuum\\anaconda3\\lib\\site-packages (from jupyter->SWAMPE==0.0.17) (4.7.4)\n",
      "Requirement already satisfied: notebook in c:\\users\\ek672\\appdata\\local\\continuum\\anaconda3\\lib\\site-packages (from jupyter->SWAMPE==0.0.17) (6.0.3)\n",
      "Requirement already satisfied: ipykernel in c:\\users\\ek672\\appdata\\local\\continuum\\anaconda3\\lib\\site-packages (from jupyter->SWAMPE==0.0.17) (5.1.4)\n",
      "Requirement already satisfied: ipywidgets in c:\\users\\ek672\\appdata\\local\\continuum\\anaconda3\\lib\\site-packages (from jupyter->SWAMPE==0.0.17) (7.5.1)\n",
      "Requirement already satisfied: jupyter-console in c:\\users\\ek672\\appdata\\local\\continuum\\anaconda3\\lib\\site-packages (from jupyter->SWAMPE==0.0.17) (6.1.0)\n",
      "Requirement already satisfied: fonttools>=4.22.0 in c:\\users\\ek672\\appdata\\local\\continuum\\anaconda3\\lib\\site-packages (from matplotlib->SWAMPE==0.0.17) (4.33.3)\n",
      "Requirement already satisfied: kiwisolver>=1.0.1 in c:\\users\\ek672\\appdata\\local\\continuum\\anaconda3\\lib\\site-packages (from matplotlib->SWAMPE==0.0.17) (1.2.0)\n",
      "Requirement already satisfied: python-dateutil>=2.7 in c:\\users\\ek672\\appdata\\local\\continuum\\anaconda3\\lib\\site-packages (from matplotlib->SWAMPE==0.0.17) (2.8.1)\n",
      "Requirement already satisfied: pillow>=6.2.0 in c:\\users\\ek672\\appdata\\local\\continuum\\anaconda3\\lib\\site-packages (from matplotlib->SWAMPE==0.0.17) (7.1.2)\n",
      "\n",
      "Requirement already satisfied: packaging>=20.0 in c:\\users\\ek672\\appdata\\local\\continuum\\anaconda3\\lib\\site-packages (from matplotlib->SWAMPE==0.0.17) (20.3)\n",
      "Requirement already satisfied: cycler>=0.10 in c:\\users\\ek672\\appdata\\local\\continuum\\anaconda3\\lib\\site-packages (from matplotlib->SWAMPE==0.0.17) (0.10.0)\n",
      "Requirement already satisfied: pyparsing>=2.2.1 in c:\\users\\ek672\\appdata\\local\\continuum\\anaconda3\\lib\\site-packages (from matplotlib->SWAMPE==0.0.17) (2.4.7)\n",
      "Requirement already satisfied: pytz>=2017.2 in c:\\users\\ek672\\appdata\\local\\continuum\\anaconda3\\lib\\site-packages (from pandas->SWAMPE==0.0.17) (2020.1)\n",
      "Requirement already satisfied: bleach in c:\\users\\ek672\\appdata\\local\\continuum\\anaconda3\\lib\\site-packages (from nbconvert->jupyter->SWAMPE==0.0.17) (3.1.4)\n",
      "Requirement already satisfied: defusedxml in c:\\users\\ek672\\appdata\\local\\continuum\\anaconda3\\lib\\site-packages (from nbconvert->jupyter->SWAMPE==0.0.17) (0.6.0)\n",
      "Requirement already satisfied: pygments in c:\\users\\ek672\\appdata\\local\\continuum\\anaconda3\\lib\\site-packages (from nbconvert->jupyter->SWAMPE==0.0.17) (2.6.1)\n",
      "Requirement already satisfied: jinja2>=2.4 in c:\\users\\ek672\\appdata\\local\\continuum\\anaconda3\\lib\\site-packages (from nbconvert->jupyter->SWAMPE==0.0.17) (2.11.2)\n",
      "Requirement already satisfied: entrypoints>=0.2.2 in c:\\users\\ek672\\appdata\\local\\continuum\\anaconda3\\lib\\site-packages (from nbconvert->jupyter->SWAMPE==0.0.17) (0.3)\n",
      "Requirement already satisfied: traitlets>=4.2 in c:\\users\\ek672\\appdata\\local\\continuum\\anaconda3\\lib\\site-packages (from nbconvert->jupyter->SWAMPE==0.0.17) (4.3.3)\n",
      "Requirement already satisfied: jupyter-core in c:\\users\\ek672\\appdata\\local\\continuum\\anaconda3\\lib\\site-packages (from nbconvert->jupyter->SWAMPE==0.0.17) (4.6.3)\n",
      "Requirement already satisfied: pandocfilters>=1.4.1 in c:\\users\\ek672\\appdata\\local\\continuum\\anaconda3\\lib\\site-packages (from nbconvert->jupyter->SWAMPE==0.0.17) (1.4.2)\n",
      "Requirement already satisfied: mistune<2,>=0.8.1 in c:\\users\\ek672\\appdata\\local\\continuum\\anaconda3\\lib\\site-packages (from nbconvert->jupyter->SWAMPE==0.0.17) (0.8.4)\n",
      "Requirement already satisfied: testpath in c:\\users\\ek672\\appdata\\local\\continuum\\anaconda3\\lib\\site-packages (from nbconvert->jupyter->SWAMPE==0.0.17) (0.4.4)\n",
      "Requirement already satisfied: nbformat>=4.4 in c:\\users\\ek672\\appdata\\local\\continuum\\anaconda3\\lib\\site-packages (from nbconvert->jupyter->SWAMPE==0.0.17) (5.0.6)\n",
      "Requirement already satisfied: jupyter-client>=4.1 in c:\\users\\ek672\\appdata\\local\\continuum\\anaconda3\\lib\\site-packages (from qtconsole->jupyter->SWAMPE==0.0.17) (6.1.3)\n",
      "Requirement already satisfied: ipython-genutils in c:\\users\\ek672\\appdata\\local\\continuum\\anaconda3\\lib\\site-packages (from qtconsole->jupyter->SWAMPE==0.0.17) (0.2.0)\n",
      "Requirement already satisfied: pyzmq>=17.1 in c:\\users\\ek672\\appdata\\local\\continuum\\anaconda3\\lib\\site-packages (from qtconsole->jupyter->SWAMPE==0.0.17) (18.1.1)\n",
      "Requirement already satisfied: qtpy in c:\\users\\ek672\\appdata\\local\\continuum\\anaconda3\\lib\\site-packages (from qtconsole->jupyter->SWAMPE==0.0.17) (1.9.0)\n",
      "Requirement already satisfied: tornado>=5.0 in c:\\users\\ek672\\appdata\\local\\continuum\\anaconda3\\lib\\site-packages (from notebook->jupyter->SWAMPE==0.0.17) (6.0.4)\n",
      "Requirement already satisfied: prometheus-client in c:\\users\\ek672\\appdata\\local\\continuum\\anaconda3\\lib\\site-packages (from notebook->jupyter->SWAMPE==0.0.17) (0.7.1)\n",
      "Requirement already satisfied: Send2Trash in c:\\users\\ek672\\appdata\\local\\continuum\\anaconda3\\lib\\site-packages (from notebook->jupyter->SWAMPE==0.0.17) (1.5.0)\n",
      "Requirement already satisfied: terminado>=0.8.1 in c:\\users\\ek672\\appdata\\local\\continuum\\anaconda3\\lib\\site-packages (from notebook->jupyter->SWAMPE==0.0.17) (0.8.3)\n",
      "Requirement already satisfied: ipython>=5.0.0 in c:\\users\\ek672\\appdata\\local\\continuum\\anaconda3\\lib\\site-packages (from ipykernel->jupyter->SWAMPE==0.0.17) (7.13.0)\n",
      "Requirement already satisfied: widgetsnbextension~=3.5.0 in c:\\users\\ek672\\appdata\\local\\continuum\\anaconda3\\lib\\site-packages (from ipywidgets->jupyter->SWAMPE==0.0.17) (3.5.1)\n",
      "Requirement already satisfied: prompt-toolkit!=3.0.0,!=3.0.1,<3.1.0,>=2.0.0 in c:\\users\\ek672\\appdata\\local\\continuum\\anaconda3\\lib\\site-packages (from jupyter-console->jupyter->SWAMPE==0.0.17) (3.0.5)\n",
      "Requirement already satisfied: six>=1.5 in c:\\users\\ek672\\appdata\\local\\continuum\\anaconda3\\lib\\site-packages (from python-dateutil>=2.7->matplotlib->SWAMPE==0.0.17) (1.14.0)\n",
      "Requirement already satisfied: webencodings in c:\\users\\ek672\\appdata\\local\\continuum\\anaconda3\\lib\\site-packages (from bleach->nbconvert->jupyter->SWAMPE==0.0.17) (0.5.1)\n",
      "Requirement already satisfied: MarkupSafe>=0.23 in c:\\users\\ek672\\appdata\\local\\continuum\\anaconda3\\lib\\site-packages (from jinja2>=2.4->nbconvert->jupyter->SWAMPE==0.0.17) (1.1.1)\n",
      "Requirement already satisfied: decorator in c:\\users\\ek672\\appdata\\local\\continuum\\anaconda3\\lib\\site-packages (from traitlets>=4.2->nbconvert->jupyter->SWAMPE==0.0.17) (4.4.2)\n",
      "Requirement already satisfied: pywin32>=1.0; sys_platform == \"win32\" in c:\\users\\ek672\\appdata\\local\\continuum\\anaconda3\\lib\\site-packages (from jupyter-core->nbconvert->jupyter->SWAMPE==0.0.17) (227)\n",
      "Requirement already satisfied: jsonschema!=2.5.0,>=2.4 in c:\\users\\ek672\\appdata\\local\\continuum\\anaconda3\\lib\\site-packages (from nbformat>=4.4->nbconvert->jupyter->SWAMPE==0.0.17) (3.2.0)\n",
      "Requirement already satisfied: colorama; sys_platform == \"win32\" in c:\\users\\ek672\\appdata\\local\\continuum\\anaconda3\\lib\\site-packages (from ipython>=5.0.0->ipykernel->jupyter->SWAMPE==0.0.17) (0.4.3)\n",
      "Requirement already satisfied: backcall in c:\\users\\ek672\\appdata\\local\\continuum\\anaconda3\\lib\\site-packages (from ipython>=5.0.0->ipykernel->jupyter->SWAMPE==0.0.17) (0.1.0)\n",
      "Requirement already satisfied: setuptools>=18.5 in c:\\users\\ek672\\appdata\\local\\continuum\\anaconda3\\lib\\site-packages (from ipython>=5.0.0->ipykernel->jupyter->SWAMPE==0.0.17) (46.4.0.post20200518)\n",
      "Requirement already satisfied: jedi>=0.10 in c:\\users\\ek672\\appdata\\local\\continuum\\anaconda3\\lib\\site-packages (from ipython>=5.0.0->ipykernel->jupyter->SWAMPE==0.0.17) (0.15.2)\n",
      "Requirement already satisfied: pickleshare in c:\\users\\ek672\\appdata\\local\\continuum\\anaconda3\\lib\\site-packages (from ipython>=5.0.0->ipykernel->jupyter->SWAMPE==0.0.17) (0.7.5)\n",
      "Requirement already satisfied: wcwidth in c:\\users\\ek672\\appdata\\local\\continuum\\anaconda3\\lib\\site-packages (from prompt-toolkit!=3.0.0,!=3.0.1,<3.1.0,>=2.0.0->jupyter-console->jupyter->SWAMPE==0.0.17) (0.1.9)\n",
      "Requirement already satisfied: pyrsistent>=0.14.0 in c:\\users\\ek672\\appdata\\local\\continuum\\anaconda3\\lib\\site-packages (from jsonschema!=2.5.0,>=2.4->nbformat>=4.4->nbconvert->jupyter->SWAMPE==0.0.17) (0.16.0)\n",
      "Requirement already satisfied: attrs>=17.4.0 in c:\\users\\ek672\\appdata\\local\\continuum\\anaconda3\\lib\\site-packages (from jsonschema!=2.5.0,>=2.4->nbformat>=4.4->nbconvert->jupyter->SWAMPE==0.0.17) (19.3.0)\n",
      "Requirement already satisfied: importlib-metadata; python_version < \"3.8\" in c:\\users\\ek672\\appdata\\local\\continuum\\anaconda3\\lib\\site-packages (from jsonschema!=2.5.0,>=2.4->nbformat>=4.4->nbconvert->jupyter->SWAMPE==0.0.17) (4.12.0)\n",
      "Requirement already satisfied: parso>=0.5.2 in c:\\users\\ek672\\appdata\\local\\continuum\\anaconda3\\lib\\site-packages (from jedi>=0.10->ipython>=5.0.0->ipykernel->jupyter->SWAMPE==0.0.17) (0.5.2)\n",
      "Requirement already satisfied: zipp>=0.5 in c:\\users\\ek672\\appdata\\local\\continuum\\anaconda3\\lib\\site-packages (from importlib-metadata; python_version < \"3.8\"->jsonschema!=2.5.0,>=2.4->nbformat>=4.4->nbconvert->jupyter->SWAMPE==0.0.17) (3.1.0)\n",
      "Requirement already satisfied: typing-extensions>=3.6.4; python_version < \"3.8\" in c:\\users\\ek672\\appdata\\local\\continuum\\anaconda3\\lib\\site-packages (from importlib-metadata; python_version < \"3.8\"->jsonschema!=2.5.0,>=2.4->nbformat>=4.4->nbconvert->jupyter->SWAMPE==0.0.17) (3.7.4.1)\n",
      "Installing collected packages: SWAMPE\n",
      "  Attempting uninstall: SWAMPE\n",
      "    Found existing installation: SWAMPE 0.0.16\n",
      "    Uninstalling SWAMPE-0.0.16:\n",
      "      Successfully uninstalled SWAMPE-0.0.16\n",
      "Successfully installed SWAMPE-0.0.17\n"
     ]
    }
   ],
   "source": [
    "%pip install -i https://test.pypi.org/simple/ SWAMPE==0.0.17"
   ]
  },
  {
   "cell_type": "code",
   "execution_count": 3,
   "metadata": {},
   "outputs": [
    {
     "name": "stderr",
     "output_type": "stream",
     "text": [
      "\n",
      "Bad key text.latex.preview in file c:\\Users\\ek672\\AppData\\Local\\Continuum\\anaconda3\\lib\\site-packages\\matplotlib\\mpl-data\\stylelib\\_classic_test.mplstyle, line 123 ('text.latex.preview : False')\n",
      "You probably need to get an updated matplotlibrc file from\n",
      "https://github.com/matplotlib/matplotlib/blob/v3.5.2/matplotlibrc.template\n",
      "or from the matplotlib source distribution\n",
      "\n",
      "Bad key mathtext.fallback_to_cm in file c:\\Users\\ek672\\AppData\\Local\\Continuum\\anaconda3\\lib\\site-packages\\matplotlib\\mpl-data\\stylelib\\_classic_test.mplstyle, line 155 ('mathtext.fallback_to_cm : True  # When True, use symbols from the Computer Modern')\n",
      "You probably need to get an updated matplotlibrc file from\n",
      "https://github.com/matplotlib/matplotlib/blob/v3.5.2/matplotlibrc.template\n",
      "or from the matplotlib source distribution\n",
      "\n",
      "Bad key savefig.jpeg_quality in file c:\\Users\\ek672\\AppData\\Local\\Continuum\\anaconda3\\lib\\site-packages\\matplotlib\\mpl-data\\stylelib\\_classic_test.mplstyle, line 418 ('savefig.jpeg_quality: 95       # when a jpeg is saved, the default quality parameter.')\n",
      "You probably need to get an updated matplotlibrc file from\n",
      "https://github.com/matplotlib/matplotlib/blob/v3.5.2/matplotlibrc.template\n",
      "or from the matplotlib source distribution\n",
      "\n",
      "Bad key keymap.all_axes in file c:\\Users\\ek672\\AppData\\Local\\Continuum\\anaconda3\\lib\\site-packages\\matplotlib\\mpl-data\\stylelib\\_classic_test.mplstyle, line 466 ('keymap.all_axes : a                 # enable all axes')\n",
      "You probably need to get an updated matplotlibrc file from\n",
      "https://github.com/matplotlib/matplotlib/blob/v3.5.2/matplotlibrc.template\n",
      "or from the matplotlib source distribution\n",
      "\n",
      "Bad key animation.avconv_path in file c:\\Users\\ek672\\AppData\\Local\\Continuum\\anaconda3\\lib\\site-packages\\matplotlib\\mpl-data\\stylelib\\_classic_test.mplstyle, line 477 ('animation.avconv_path: avconv     # Path to avconv binary. Without full path')\n",
      "You probably need to get an updated matplotlibrc file from\n",
      "https://github.com/matplotlib/matplotlib/blob/v3.5.2/matplotlibrc.template\n",
      "or from the matplotlib source distribution\n",
      "\n",
      "Bad key animation.avconv_args in file c:\\Users\\ek672\\AppData\\Local\\Continuum\\anaconda3\\lib\\site-packages\\matplotlib\\mpl-data\\stylelib\\_classic_test.mplstyle, line 479 ('animation.avconv_args:            # Additional arguments to pass to avconv')\n",
      "You probably need to get an updated matplotlibrc file from\n",
      "https://github.com/matplotlib/matplotlib/blob/v3.5.2/matplotlibrc.template\n",
      "or from the matplotlib source distribution\n"
     ]
    }
   ],
   "source": [
    "import SWAMPE"
   ]
  },
  {
   "cell_type": "markdown",
   "metadata": {},
   "source": [
    "First, let's specify some key physical inputs:\n"
   ]
  },
  {
   "cell_type": "code",
   "execution_count": 4,
   "metadata": {},
   "outputs": [],
   "source": [
    "# planetary radius a in meters\n",
    "\n",
    "a=8.2*10**(7) \n",
    "\n",
    "# planetary rotation rate omega in radians/s\n",
    "\n",
    "omega=3.2*10**(-5)\n",
    "\n",
    "# the reference geopotential height, m^2/s^2\n",
    "\n",
    "Phibar=4*(10**6)"
   ]
  },
  {
   "cell_type": "markdown",
   "metadata": {},
   "source": [
    "Now let's specify the timestep and the number of timesteps:"
   ]
  },
  {
   "cell_type": "code",
   "execution_count": 5,
   "metadata": {},
   "outputs": [],
   "source": [
    "#timestep length in seconds\n",
    "\n",
    "dt=30\n",
    "\n",
    "#number of timesteps for the simulation\n",
    "\n",
    "tmax=10"
   ]
  },
  {
   "cell_type": "markdown",
   "metadata": {},
   "source": [
    "We will also specify the spectral resolution M. "
   ]
  },
  {
   "cell_type": "code",
   "execution_count": 6,
   "metadata": {},
   "outputs": [],
   "source": [
    "M=42"
   ]
  },
  {
   "cell_type": "markdown",
   "metadata": {},
   "source": [
    "Let's specify forcing parameters. The forcing strength is controlled via DPhieq. ## explain what DPhiEq is\n",
    "\n",
    "We will need timescales radiative timescale of one day and a drag timescale of ten days:"
   ]
  },
  {
   "cell_type": "code",
   "execution_count": 7,
   "metadata": {},
   "outputs": [],
   "source": [
    "taurad=3600*24\n",
    "taudrag=10*3600*24\n",
    "\n",
    "DPhieq=Phibar\n"
   ]
  },
  {
   "cell_type": "markdown",
   "metadata": {},
   "source": [
    "Now, we can use SWAMP-E to run the simulation. Note that a 2D model like SWAMP-E will need a few hundred time steps to spin up, so with a real-world example, we recommend running the model using a script rather than a Jupyter notebook."
   ]
  },
  {
   "cell_type": "markdown",
   "metadata": {},
   "source": [
    "Now we will specify planet type\n",
    "\n",
    "## MOVE THIS"
   ]
  },
  {
   "cell_type": "code",
   "execution_count": 8,
   "metadata": {},
   "outputs": [],
   "source": [
    "test=10"
   ]
  },
  {
   "cell_type": "code",
   "execution_count": 11,
   "metadata": {},
   "outputs": [],
   "source": [
    "SWAMPE.model.run_model(M,dt,tmax,Phibar, omega, a, test, taurad=taurad, taudrag=taudrag, DPhieq=Phibar, plotflag=0, plotfreq=5,saveflag=0,verbose=False)"
   ]
  },
  {
   "cell_type": "code",
   "execution_count": 12,
   "metadata": {},
   "outputs": [],
   "source": [
    "SWAMPE.run_model(M,dt,tmax,Phibar, omega, a, test, taurad=taurad, taudrag=taudrag, DPhieq=Phibar, plotflag=0, plotfreq=5,saveflag=0,verbose=False)"
   ]
  },
  {
   "cell_type": "code",
   "execution_count": 10,
   "metadata": {},
   "outputs": [
    {
     "ename": "AttributeError",
     "evalue": "module 'SWAMPE' has no attribute 'main_function'",
     "output_type": "error",
     "traceback": [
      "\u001b[1;31m---------------------------------------------------------------------------\u001b[0m",
      "\u001b[1;31mAttributeError\u001b[0m                            Traceback (most recent call last)",
      "\u001b[1;32m<ipython-input-10-19e87d9ff47e>\u001b[0m in \u001b[0;36m<module>\u001b[1;34m\u001b[0m\n\u001b[0;32m      1\u001b[0m \u001b[1;31m#SWAMPE.run_model(M,dt,tmax,Phibar, omega, a, test, taurad=taurad, taudrag=taudrag, DPhieq=Phibar, plotflag=0, plotfreq=5,saveflag=0)\u001b[0m\u001b[1;33m\u001b[0m\u001b[1;33m\u001b[0m\u001b[1;33m\u001b[0m\u001b[0m\n\u001b[1;32m----> 2\u001b[1;33m \u001b[0mSWAMPE\u001b[0m\u001b[1;33m.\u001b[0m\u001b[0mmain_function\u001b[0m\u001b[1;33m.\u001b[0m\u001b[0mmain\u001b[0m\u001b[1;33m(\u001b[0m\u001b[0mM\u001b[0m\u001b[1;33m,\u001b[0m\u001b[0mdt\u001b[0m\u001b[1;33m,\u001b[0m\u001b[0mtmax\u001b[0m\u001b[1;33m,\u001b[0m\u001b[0mPhibar\u001b[0m\u001b[1;33m,\u001b[0m \u001b[0momega\u001b[0m\u001b[1;33m,\u001b[0m \u001b[0ma\u001b[0m\u001b[1;33m,\u001b[0m \u001b[0mtest\u001b[0m\u001b[1;33m,\u001b[0m \u001b[0mtaurad\u001b[0m\u001b[1;33m=\u001b[0m\u001b[0mtaurad\u001b[0m\u001b[1;33m,\u001b[0m \u001b[0mtaudrag\u001b[0m\u001b[1;33m=\u001b[0m\u001b[0mtaudrag\u001b[0m\u001b[1;33m,\u001b[0m \u001b[0mDPhieq\u001b[0m\u001b[1;33m=\u001b[0m\u001b[0mPhibar\u001b[0m\u001b[1;33m,\u001b[0m \u001b[0mplotflag\u001b[0m\u001b[1;33m=\u001b[0m\u001b[1;36m0\u001b[0m\u001b[1;33m,\u001b[0m \u001b[0mplotfreq\u001b[0m\u001b[1;33m=\u001b[0m\u001b[1;36m5\u001b[0m\u001b[1;33m,\u001b[0m\u001b[0msaveflag\u001b[0m\u001b[1;33m=\u001b[0m\u001b[1;36m0\u001b[0m\u001b[1;33m)\u001b[0m\u001b[1;33m\u001b[0m\u001b[1;33m\u001b[0m\u001b[0m\n\u001b[0m",
      "\u001b[1;31mAttributeError\u001b[0m: module 'SWAMPE' has no attribute 'main_function'"
     ]
    }
   ],
   "source": [
    "#SWAMPE.run_model(M,dt,tmax,Phibar, omega, a, test, taurad=taurad, taudrag=taudrag, DPhieq=Phibar, plotflag=0, plotfreq=5,saveflag=0)\n",
    "SWAMPE.main_function.main(M,dt,tmax,Phibar, omega, a, test, taurad=taurad, taudrag=taudrag, DPhieq=Phibar, plotflag=0, plotfreq=5,saveflag=0)"
   ]
  },
  {
   "cell_type": "markdown",
   "metadata": {},
   "source": [
    "We can specify whether we want to see plots as the simulation is conducted and control the frequency of output. "
   ]
  },
  {
   "cell_type": "markdown",
   "metadata": {},
   "source": [
    "## insert images here of end product of simulations for different timescales"
   ]
  },
  {
   "cell_type": "markdown",
   "metadata": {},
   "source": [
    "## Saving the data"
   ]
  },
  {
   "cell_type": "markdown",
   "metadata": {},
   "source": [
    "We can specify whether to save the data using saveflag. We can also specify savefrequency. The data will be stored in the format variable-timestamp, where timestamp can be specified in seconds, minutes, or hours, depending on simulation length."
   ]
  },
  {
   "cell_type": "markdown",
   "metadata": {},
   "source": [
    "We can also specify whether we want to save the data by passing an optional argument to the main function:"
   ]
  },
  {
   "cell_type": "code",
   "execution_count": null,
   "metadata": {},
   "outputs": [
    {
     "data": {
      "text/plain": [
       "'custompath=C:/your/Path/here'"
      ]
     },
     "execution_count": 52,
     "metadata": {},
     "output_type": "execute_result"
    }
   ],
   "source": [
    "\"custompath=None\"  \n",
    "\n",
    "\"custompath=C:/your/Path/here\""
   ]
  },
  {
   "cell_type": "markdown",
   "metadata": {},
   "source": [
    "Let's save some data"
   ]
  },
  {
   "cell_type": "markdown",
   "metadata": {},
   "source": [
    "### Continuation"
   ]
  },
  {
   "cell_type": "markdown",
   "metadata": {},
   "source": [
    "We can also start the simulation from any suitable initial condition. Let's restart the simulation from previously saved data."
   ]
  }
 ],
 "metadata": {
  "kernelspec": {
   "display_name": "Python 3.7.7 ('base')",
   "language": "python",
   "name": "python3"
  },
  "language_info": {
   "codemirror_mode": {
    "name": "ipython",
    "version": 3
   },
   "file_extension": ".py",
   "mimetype": "text/x-python",
   "name": "python",
   "nbconvert_exporter": "python",
   "pygments_lexer": "ipython3",
   "version": "3.7.7"
  },
  "orig_nbformat": 4,
  "vscode": {
   "interpreter": {
    "hash": "0da66f84c04492da12db778361e23394eef18a2c7278c6fabd5903c7fbe69a76"
   }
  }
 },
 "nbformat": 4,
 "nbformat_minor": 2
}
