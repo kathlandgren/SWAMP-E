{
 "cells": [
  {
   "cell_type": "markdown",
   "metadata": {},
   "source": [
    "# Tutorial"
   ]
  },
  {
   "cell_type": "markdown",
   "metadata": {},
   "source": [
    "In this tutorial, we will explore how to use SWAMP-E to simulate planetary atmospheres. "
   ]
  },
  {
   "cell_type": "code",
   "execution_count": 34,
   "metadata": {},
   "outputs": [],
   "source": [
    "import numpy\n",
    "import astropy\n"
   ]
  },
  {
   "cell_type": "code",
   "execution_count": 35,
   "metadata": {},
   "outputs": [
    {
     "name": "stdout",
     "output_type": "stream",
     "text": [
      "Looking in indexes: https://test.pypi.org/simple/\n",
      "Requirement already satisfied: SWAMPE==0.0.13 in c:\\users\\ek672\\appdata\\local\\continuum\\anaconda3\\lib\\site-packages (0.0.13)\n",
      "Requirement already satisfied: jupyter in c:\\users\\ek672\\appdata\\local\\continuum\\anaconda3\\lib\\site-packages (from SWAMPE==0.0.13) (1.0.0)\n",
      "Requirement already satisfied: numpy in c:\\users\\ek672\\appdata\\local\\continuum\\anaconda3\\lib\\site-packages (from SWAMPE==0.0.13) (1.19.2)\n",
      "Requirement already satisfied: scipy in c:\\users\\ek672\\appdata\\local\\continuum\\anaconda3\\lib\\site-packages (from SWAMPE==0.0.13) (1.4.1)\n",
      "Requirement already satisfied: matplotlib in c:\\users\\ek672\\appdata\\local\\continuum\\anaconda3\\lib\\site-packages (from SWAMPE==0.0.13) (3.5.2)\n",
      "Requirement already satisfied: imageio in c:\\users\\ek672\\appdata\\local\\continuum\\anaconda3\\lib\\site-packages (from SWAMPE==0.0.13) (2.8.0)\n",
      "Requirement already satisfied: astropy in c:\\users\\ek672\\appdata\\local\\continuum\\anaconda3\\lib\\site-packages (from SWAMPE==0.0.13) (4.0.1.post1)\n",
      "Requirement already satisfied: pandas in c:\\users\\ek672\\appdata\\local\\continuum\\anaconda3\\lib\\site-packages (from SWAMPE==0.0.13) (1.0.3)\n",
      "Requirement already satisfied: qtconsole in c:\\users\\ek672\\appdata\\local\\continuum\\anaconda3\\lib\\site-packages (from jupyter->SWAMPE==0.0.13) (4.7.4)\n",
      "Requirement already satisfied: nbconvert in c:\\users\\ek672\\appdata\\local\\continuum\\anaconda3\\lib\\site-packages (from jupyter->SWAMPE==0.0.13) (5.6.1)\n",
      "Requirement already satisfied: notebook in c:\\users\\ek672\\appdata\\local\\continuum\\anaconda3\\lib\\site-packages (from jupyter->SWAMPE==0.0.13) (6.0.3)\n",
      "Requirement already satisfied: ipywidgets in c:\\users\\ek672\\appdata\\local\\continuum\\anaconda3\\lib\\site-packages (from jupyter->SWAMPE==0.0.13) (7.5.1)\n",
      "Requirement already satisfied: ipykernel in c:\\users\\ek672\\appdata\\local\\continuum\\anaconda3\\lib\\site-packages (from jupyter->SWAMPE==0.0.13) (5.1.4)\n",
      "Requirement already satisfied: jupyter-console in c:\\users\\ek672\\appdata\\local\\continuum\\anaconda3\\lib\\site-packages (from jupyter->SWAMPE==0.0.13) (6.1.0)\n",
      "Requirement already satisfied: pyparsing>=2.2.1 in c:\\users\\ek672\\appdata\\local\\continuum\\anaconda3\\lib\\site-packages (from matplotlib->SWAMPE==0.0.13) (2.4.7)\n",
      "Requirement already satisfied: pillow>=6.2.0 in c:\\users\\ek672\\appdata\\local\\continuum\\anaconda3\\lib\\site-packages (from matplotlib->SWAMPE==0.0.13) (7.1.2)\n",
      "Requirement already satisfied: kiwisolver>=1.0.1 in c:\\users\\ek672\\appdata\\local\\continuum\\anaconda3\\lib\\site-packages (from matplotlib->SWAMPE==0.0.13) (1.2.0)\n",
      "Requirement already satisfied: cycler>=0.10 in c:\\users\\ek672\\appdata\\local\\continuum\\anaconda3\\lib\\site-packages (from matplotlib->SWAMPE==0.0.13) (0.10.0)\n",
      "Requirement already satisfied: python-dateutil>=2.7 in c:\\users\\ek672\\appdata\\local\\continuum\\anaconda3\\lib\\site-packages (from matplotlib->SWAMPE==0.0.13) (2.8.1)\n",
      "Requirement already satisfied: fonttools>=4.22.0 in c:\\users\\ek672\\appdata\\local\\continuum\\anaconda3\\lib\\site-packages (from matplotlib->SWAMPE==0.0.13) (4.33.3)\n",
      "Requirement already satisfied: packaging>=20.0 in c:\\users\\ek672\\appdata\\local\\continuum\\anaconda3\\lib\\site-packages (from matplotlib->SWAMPE==0.0.13) (20.3)\n",
      "Requirement already satisfied: pytz>=2017.2 in c:\\users\\ek672\\appdata\\local\\continuum\\anaconda3\\lib\\site-packages (from pandas->SWAMPE==0.0.13) (2020.1)\n",
      "Requirement already satisfied: jupyter-client>=4.1 in c:\\users\\ek672\\appdata\\local\\continuum\\anaconda3\\lib\\site-packages (from qtconsole->jupyter->SWAMPE==0.0.13) (6.1.3)\n",
      "Requirement already satisfied: traitlets in c:\\users\\ek672\\appdata\\local\\continuum\\anaconda3\\lib\\site-packages (from qtconsole->jupyter->SWAMPE==0.0.13) (4.3.3)\n",
      "Requirement already satisfied: jupyter-core in c:\\users\\ek672\\appdata\\local\\continuum\\anaconda3\\lib\\site-packages (from qtconsole->jupyter->SWAMPE==0.0.13) (4.6.3)\n",
      "Requirement already satisfied: qtpy in c:\\users\\ek672\\appdata\\local\\continuum\\anaconda3\\lib\\site-packages (from qtconsole->jupyter->SWAMPE==0.0.13) (1.9.0)\n",
      "Requirement already satisfied: pygments in c:\\users\\ek672\\appdata\\local\\continuum\\anaconda3\\lib\\site-packages (from qtconsole->jupyter->SWAMPE==0.0.13) (2.6.1)\n",
      "Requirement already satisfied: ipython-genutils in c:\\users\\ek672\\appdata\\local\\continuum\\anaconda3\\lib\\site-packages (from qtconsole->jupyter->SWAMPE==0.0.13) (0.2.0)\n",
      "Requirement already satisfied: pyzmq>=17.1 in c:\\users\\ek672\\appdata\\local\\continuum\\anaconda3\\lib\\site-packages (from qtconsole->jupyter->SWAMPE==0.0.13) (18.1.1)\n",
      "Requirement already satisfied: mistune<2,>=0.8.1 in c:\\users\\ek672\\appdata\\local\\continuum\\anaconda3\\lib\\site-packages (from nbconvert->jupyter->SWAMPE==0.0.13) (0.8.4)\n",
      "Requirement already satisfied: nbformat>=4.4 in c:\\users\\ek672\\appdata\\local\\continuum\\anaconda3\\lib\\site-packages (from nbconvert->jupyter->SWAMPE==0.0.13) (5.0.6)\n",
      "Requirement already satisfied: testpath in c:\\users\\ek672\\appdata\\local\\continuum\\anaconda3\\lib\\site-packages (from nbconvert->jupyter->SWAMPE==0.0.13) (0.4.4)\n",
      "Requirement already satisfied: defusedxml in c:\\users\\ek672\\appdata\\local\\continuum\\anaconda3\\lib\\site-packages (from nbconvert->jupyter->SWAMPE==0.0.13) (0.6.0)\n",
      "Requirement already satisfied: bleach in c:\\users\\ek672\\appdata\\local\\continuum\\anaconda3\\lib\\site-packages (from nbconvert->jupyter->SWAMPE==0.0.13) (3.1.4)\n",
      "Requirement already satisfied: pandocfilters>=1.4.1 in c:\\users\\ek672\\appdata\\local\\continuum\\anaconda3\\lib\\site-packages (from nbconvert->jupyter->SWAMPE==0.0.13) (1.4.2)\n",
      "Requirement already satisfied: entrypoints>=0.2.2 in c:\\users\\ek672\\appdata\\local\\continuum\\anaconda3\\lib\\site-packages (from nbconvert->jupyter->SWAMPE==0.0.13) (0.3)\n",
      "Requirement already satisfied: jinja2>=2.4 in c:\\users\\ek672\\appdata\\local\\continuum\\anaconda3\\lib\\site-packages (from nbconvert->jupyter->SWAMPE==0.0.13) (2.11.2)\n",
      "Requirement already satisfied: Send2Trash in c:\\users\\ek672\\appdata\\local\\continuum\\anaconda3\\lib\\site-packages (from notebook->jupyter->SWAMPE==0.0.13) (1.5.0)\n",
      "Requirement already satisfied: terminado>=0.8.1 in c:\\users\\ek672\\appdata\\local\\continuum\\anaconda3\\lib\\site-packages (from notebook->jupyter->SWAMPE==0.0.13) (0.8.3)\n",
      "Requirement already satisfied: prometheus-client in c:\\users\\ek672\\appdata\\local\\continuum\\anaconda3\\lib\\site-packages (from notebook->jupyter->SWAMPE==0.0.13) (0.7.1)\n",
      "Requirement already satisfied: tornado>=5.0 in c:\\users\\ek672\\appdata\\local\\continuum\\anaconda3\\lib\\site-packages (from notebook->jupyter->SWAMPE==0.0.13) (6.0.4)\n",
      "Requirement already satisfied: ipython>=4.0.0; python_version >= \"3.3\" in c:\\users\\ek672\\appdata\\local\\continuum\\anaconda3\\lib\\site-packages (from ipywidgets->jupyter->SWAMPE==0.0.13) (7.13.0)\n",
      "Requirement already satisfied: widgetsnbextension~=3.5.0 in c:\\users\\ek672\\appdata\\local\\continuum\\anaconda3\\lib\\site-packages (from ipywidgets->jupyter->SWAMPE==0.0.13) (3.5.1)\n",
      "Requirement already satisfied: prompt-toolkit!=3.0.0,!=3.0.1,<3.1.0,>=2.0.0 in c:\\users\\ek672\\appdata\\local\\continuum\\anaconda3\\lib\\site-packages (from jupyter-console->jupyter->SWAMPE==0.0.13) (3.0.5)\n",
      "Requirement already satisfied: six in c:\\users\\ek672\\appdata\\local\\continuum\\anaconda3\\lib\\site-packages (from cycler>=0.10->matplotlib->SWAMPE==0.0.13) (1.14.0)\n",
      "Requirement already satisfied: decorator in c:\\users\\ek672\\appdata\\local\\continuum\\anaconda3\\lib\\site-packages (from traitlets->qtconsole->jupyter->SWAMPE==0.0.13) (4.4.2)\n",
      "Requirement already satisfied: pywin32>=1.0; sys_platform == \"win32\" in c:\\users\\ek672\\appdata\\local\\continuum\\anaconda3\\lib\\site-packages (from jupyter-core->qtconsole->jupyter->SWAMPE==0.0.13) (227)\n",
      "Requirement already satisfied: jsonschema!=2.5.0,>=2.4 in c:\\users\\ek672\\appdata\\local\\continuum\\anaconda3\\lib\\site-packages (from nbformat>=4.4->nbconvert->jupyter->SWAMPE==0.0.13) (3.2.0)\n",
      "Requirement already satisfied: webencodings in c:\\users\\ek672\\appdata\\local\\continuum\\anaconda3\\lib\\site-packages (from bleach->nbconvert->jupyter->SWAMPE==0.0.13) (0.5.1)\n",
      "Requirement already satisfied: MarkupSafe>=0.23 in c:\\users\\ek672\\appdata\\local\\continuum\\anaconda3\\lib\\site-packages (from jinja2>=2.4->nbconvert->jupyter->SWAMPE==0.0.13) (1.1.1)\n",
      "Requirement already satisfied: setuptools>=18.5 in c:\\users\\ek672\\appdata\\local\\continuum\\anaconda3\\lib\\site-packages (from ipython>=4.0.0; python_version >= \"3.3\"->ipywidgets->jupyter->SWAMPE==0.0.13) (46.4.0.post20200518)\n",
      "Requirement already satisfied: pickleshare in c:\\users\\ek672\\appdata\\local\\continuum\\anaconda3\\lib\\site-packages (from ipython>=4.0.0; python_version >= \"3.3\"->ipywidgets->jupyter->SWAMPE==0.0.13) (0.7.5)\n",
      "Requirement already satisfied: backcall in c:\\users\\ek672\\appdata\\local\\continuum\\anaconda3\\lib\\site-packages (from ipython>=4.0.0; python_version >= \"3.3\"->ipywidgets->jupyter->SWAMPE==0.0.13) (0.1.0)\n",
      "Requirement already satisfied: colorama; sys_platform == \"win32\" in c:\\users\\ek672\\appdata\\local\\continuum\\anaconda3\\lib\\site-packages (from ipython>=4.0.0; python_version >= \"3.3\"->ipywidgets->jupyter->SWAMPE==0.0.13) (0.4.3)\n",
      "Requirement already satisfied: jedi>=0.10 in c:\\users\\ek672\\appdata\\local\\continuum\\anaconda3\\lib\\site-packages (from ipython>=4.0.0; python_version >= \"3.3\"->ipywidgets->jupyter->SWAMPE==0.0.13) (0.15.2)\n",
      "Requirement already satisfied: wcwidth in c:\\users\\ek672\\appdata\\local\\continuum\\anaconda3\\lib\\site-packages (from prompt-toolkit!=3.0.0,!=3.0.1,<3.1.0,>=2.0.0->jupyter-console->jupyter->SWAMPE==0.0.13) (0.1.9)\n",
      "Requirement already satisfied: attrs>=17.4.0 in c:\\users\\ek672\\appdata\\local\\continuum\\anaconda3\\lib\\site-packages (from jsonschema!=2.5.0,>=2.4->nbformat>=4.4->nbconvert->jupyter->SWAMPE==0.0.13) (19.3.0)\n",
      "Requirement already satisfied: importlib-metadata; python_version < \"3.8\" in c:\\users\\ek672\\appdata\\local\\continuum\\anaconda3\\lib\\site-packages (from jsonschema!=2.5.0,>=2.4->nbformat>=4.4->nbconvert->jupyter->SWAMPE==0.0.13) (4.12.0)\n",
      "Requirement already satisfied: pyrsistent>=0.14.0 in c:\\users\\ek672\\appdata\\local\\continuum\\anaconda3\\lib\\site-packages (from jsonschema!=2.5.0,>=2.4->nbformat>=4.4->nbconvert->jupyter->SWAMPE==0.0.13) (0.16.0)\n",
      "Requirement already satisfied: parso>=0.5.2 in c:\\users\\ek672\\appdata\\local\\continuum\\anaconda3\\lib\\site-packages (from jedi>=0.10->ipython>=4.0.0; python_version >= \"3.3\"->ipywidgets->jupyter->SWAMPE==0.0.13) (0.5.2)\n",
      "Requirement already satisfied: zipp>=0.5 in c:\\users\\ek672\\appdata\\local\\continuum\\anaconda3\\lib\\site-packages (from importlib-metadata; python_version < \"3.8\"->jsonschema!=2.5.0,>=2.4->nbformat>=4.4->nbconvert->jupyter->SWAMPE==0.0.13) (3.1.0)\n",
      "Requirement already satisfied: typing-extensions>=3.6.4; python_version < \"3.8\" in c:\\users\\ek672\\appdata\\local\\continuum\\anaconda3\\lib\\site-packages (from importlib-metadata; python_version < \"3.8\"->jsonschema!=2.5.0,>=2.4->nbformat>=4.4->nbconvert->jupyter->SWAMPE==0.0.13) (3.7.4.1)\n",
      "Note: you may need to restart the kernel to use updated packages.\n"
     ]
    }
   ],
   "source": [
    "%pip install -i https://test.pypi.org/simple/ SWAMPE==0.0.13"
   ]
  },
  {
   "cell_type": "code",
   "execution_count": 36,
   "metadata": {},
   "outputs": [],
   "source": [
    "import SWAMPE"
   ]
  },
  {
   "cell_type": "markdown",
   "metadata": {},
   "source": [
    "First, let's specify some key physical inputs:\n"
   ]
  },
  {
   "cell_type": "code",
   "execution_count": 37,
   "metadata": {},
   "outputs": [],
   "source": [
    "# planetary radius a in meters\n",
    "\n",
    "a=8.2*10**(7) \n",
    "\n",
    "# planetary rotation rate omega in radians/s\n",
    "\n",
    "omega=3.2*10**(-5)\n",
    "\n",
    "# the reference geopotential height, m^2/s^2\n",
    "\n",
    "Phibar=4*(10**6)"
   ]
  },
  {
   "cell_type": "markdown",
   "metadata": {},
   "source": [
    "Now let's specify the timestep and the number of timesteps:"
   ]
  },
  {
   "cell_type": "code",
   "execution_count": 38,
   "metadata": {},
   "outputs": [],
   "source": [
    "#timestep length in seconds\n",
    "\n",
    "dt=30\n",
    "\n",
    "#number of timesteps for the simulation\n",
    "\n",
    "tmax=10"
   ]
  },
  {
   "cell_type": "markdown",
   "metadata": {},
   "source": [
    "We will also specify the spectral resolution M. "
   ]
  },
  {
   "cell_type": "code",
   "execution_count": 39,
   "metadata": {},
   "outputs": [],
   "source": [
    "M=42"
   ]
  },
  {
   "cell_type": "markdown",
   "metadata": {},
   "source": [
    "Let's specify forcing parameters. The forcing strength is controlled via DPhieq. ## explain what DPhiEq is\n",
    "\n",
    "We will need timescales radiative timescale of one day and a drag timescale of ten days:"
   ]
  },
  {
   "cell_type": "code",
   "execution_count": 40,
   "metadata": {},
   "outputs": [],
   "source": [
    "taurad=3600*24\n",
    "taudrag=10*3600*24\n",
    "\n",
    "DPhieq=Phibar\n"
   ]
  },
  {
   "cell_type": "markdown",
   "metadata": {},
   "source": [
    "Now, we can use SWAMP-E to run the simulation. Note that a 2D model like SWAMP-E will need a few hundred time steps to spin up, so with a real-world example, we recommend running the model using a script rather than a Jupyter notebook."
   ]
  },
  {
   "cell_type": "markdown",
   "metadata": {},
   "source": [
    "Now we will specify planet type\n",
    "\n",
    "## MOVE THIS"
   ]
  },
  {
   "cell_type": "code",
   "execution_count": 41,
   "metadata": {},
   "outputs": [],
   "source": [
    "test=10"
   ]
  },
  {
   "cell_type": "code",
   "execution_count": 42,
   "metadata": {},
   "outputs": [
    {
     "name": "stdout",
     "output_type": "stream",
     "text": [
      "t=2, 20.0% complete\n",
      "1390.2823158371627\n",
      "t=3, 30.0% complete\n",
      "2780.091574730298\n",
      "t=4, 40.0% complete\n",
      "4170.176677954923\n",
      "t=5, 50.0% complete\n",
      "5560.535559759082\n",
      "t=6, 60.0% complete\n",
      "6951.166159838185\n",
      "t=7, 70.0% complete\n",
      "8342.066423794608\n",
      "t=8, 80.0% complete\n",
      "9733.234303591827\n",
      "t=9, 90.0% complete\n",
      "11124.667758003083\n",
      "Loop finished\n"
     ]
    }
   ],
   "source": [
    "\n",
    "SWAMPE.main_function.main(M,dt,tmax,Phibar, omega, a, test, taurad=taurad, taudrag=taudrag, DPhieq=Phibar, plotflag=0, plotfreq=5,saveflag=0)"
   ]
  },
  {
   "cell_type": "markdown",
   "metadata": {},
   "source": [
    "We can specify whether we want to see plots as the simulation is conducted and control the frequency of output. "
   ]
  },
  {
   "cell_type": "markdown",
   "metadata": {},
   "source": [
    "## insert images here of end product of simulations for different timescales"
   ]
  },
  {
   "cell_type": "markdown",
   "metadata": {},
   "source": [
    "## Saving the data"
   ]
  },
  {
   "cell_type": "markdown",
   "metadata": {},
   "source": [
    "We can specify whether to save the data using saveflag. We can also specify savefrequency. The data will be stored in the format variable-timestamp, where timestamp can be specified in seconds, minutes, or hours, depending on simulation length."
   ]
  },
  {
   "cell_type": "markdown",
   "metadata": {},
   "source": [
    "We can also specify whether we want to save the data by passing an optional argument to the main function:"
   ]
  },
  {
   "cell_type": "code",
   "execution_count": 33,
   "metadata": {},
   "outputs": [
    {
     "data": {
      "text/plain": [
       "'custompath=C:/your/Path/here'"
      ]
     },
     "execution_count": 33,
     "metadata": {},
     "output_type": "execute_result"
    }
   ],
   "source": [
    "\"custompath=None\"  \n",
    "\n",
    "\"custompath=C:/your/Path/here\""
   ]
  },
  {
   "cell_type": "markdown",
   "metadata": {},
   "source": [
    "Let's save some data"
   ]
  },
  {
   "cell_type": "markdown",
   "metadata": {},
   "source": [
    "### Continuation"
   ]
  },
  {
   "cell_type": "markdown",
   "metadata": {},
   "source": [
    "We can also start the simulation from any suitable initial condition. Let's restart the simulation from previously saved data."
   ]
  }
 ],
 "metadata": {
  "kernelspec": {
   "display_name": "Python 3.7.7 ('base')",
   "language": "python",
   "name": "python3"
  },
  "language_info": {
   "codemirror_mode": {
    "name": "ipython",
    "version": 3
   },
   "file_extension": ".py",
   "mimetype": "text/x-python",
   "name": "python",
   "nbconvert_exporter": "python",
   "pygments_lexer": "ipython3",
   "version": "3.7.7"
  },
  "orig_nbformat": 4,
  "vscode": {
   "interpreter": {
    "hash": "0da66f84c04492da12db778361e23394eef18a2c7278c6fabd5903c7fbe69a76"
   }
  }
 },
 "nbformat": 4,
 "nbformat_minor": 2
}
